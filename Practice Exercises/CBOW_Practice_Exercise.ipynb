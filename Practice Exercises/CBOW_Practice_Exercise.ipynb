{
  "nbformat": 4,
  "nbformat_minor": 0,
  "metadata": {
    "colab": {
      "provenance": []
    },
    "kernelspec": {
      "name": "python3",
      "display_name": "Python 3"
    },
    "language_info": {
      "name": "python"
    }
  },
  "cells": [
    {
      "cell_type": "markdown",
      "source": [
        "# Continuous Bag of Words (CBOW) Model"
      ],
      "metadata": {
        "id": "L4G-WdYBozAF"
      }
    },
    {
      "cell_type": "markdown",
      "source": [
        "In this exercise, we will create a CBOW model using a sample Arabic medical corpus. The corpus consists of sentences describing various medical scenarios. The goal of the CBOW model is to predict a target word based on its surrounding context words."
      ],
      "metadata": {
        "id": "RhS9KCVPpSy2"
      }
    },
    {
      "cell_type": "markdown",
      "source": [
        "# Importing Required Libraries"
      ],
      "metadata": {
        "id": "BmX5AlBspz6g"
      }
    },
    {
      "cell_type": "markdown",
      "source": [
        "In this step, we import the necessary libraries to build and train the Continuous Bag of Words (CBOW) model.\n",
        "\n",
        "- **TensorFlow and Keras**: Used to build the neural network model, including the layers like `Embedding`, `Dense`, and `Lambda`.\n",
        "- **Tokenizer**: A utility from Keras for tokenizing and processing text data.\n",
        "- **NumPy**: Used for handling numerical operations, particularly for processing arrays and data manipulation.\n",
        "\n",
        "These libraries will provide the essential tools for text preprocessing and model development in the upcoming steps.\n",
        "\n",
        "Add more if needed!\n"
      ],
      "metadata": {
        "id": "S6Ba2ibzpydu"
      }
    },
    {
      "cell_type": "code",
      "source": [],
      "metadata": {
        "id": "vLFR0MF1p2Y2"
      },
      "execution_count": null,
      "outputs": []
    },
    {
      "cell_type": "markdown",
      "source": [
        "# Preparing the Corpus"
      ],
      "metadata": {
        "id": "-LHg8WazpVFL"
      }
    },
    {
      "cell_type": "markdown",
      "source": [
        "In this step, we initialize the corpus that will be used for training the Continuous Bag of Words (CBOW) model. The corpus consists of Arabic sentences, each of which describes different medical scenarios.\n",
        "\n",
        "- **Corpus**: A collection of medical-related sentences in Arabic, focusing on various health conditions, treatments, and patient experiences.\n",
        "\n",
        "This step sets up the text data that we will use in the upcoming stages of tokenization and model training."
      ],
      "metadata": {
        "id": "aXDrgRcvoliV"
      }
    },
    {
      "cell_type": "code",
      "source": [
        "corpus = [\n",
        "    \"المريض يعاني من ارتفاع في ضغط الدم منذ فترة طويلة ويحتاج إلى تغيير نمط حياته لتجنب المضاعفات\",\n",
        "    \"الطبيب أشار إلى ضرورة إجراء فحوصات شاملة للتأكد من عدم وجود مشاكل أخرى تؤثر على القلب والجهاز التنفسي\",\n",
        "    \"كانت نتائج التحاليل المخبرية تشير إلى انخفاض حاد في نسبة الحديد مما يستدعي البدء في العلاج فوراً\",\n",
        "    \"المستشفى شهد ازدحامًا شديدًا اليوم بسبب تزايد حالات الطوارئ والحالات الحرجة التي وصلت خلال ساعات الصباح\",\n",
        "    \"المريض يحتاج إلى متابعة دورية من أجل التحكم في نسبة السكر في الدم وتجنب أي تدهور في حالته الصحية\",\n",
        "    \"الأشعة أكدت وجود كسر في العظام ويجب على المريض الراحة التامة والالتزام بالعلاج الموصوف من الطبيب\",\n",
        "    \"الجراحة كانت ناجحة والمريض بدأ يشعر بتحسن تدريجي في حالته ولكنه يحتاج إلى فترة نقاهة طويلة قبل العودة إلى نشاطاته\",\n",
        "    \"الطبيب نصح المريض باتباع نظام غذائي صحي وممارسة الرياضة بانتظام للحفاظ على صحته العامة والوقاية من الأمراض\",\n",
        "    \"تم تشخيص المريضة بمرض مزمن يتطلب علاجًا طويل الأمد وتغييرًا جذريًا في نمط الحياة للتعايش معه\",\n",
        "    \"المريض يشعر بألم حاد في الصدر منذ عدة أيام وقد أُحيل إلى قسم القلب لإجراء فحوصات تشخيصية شاملة\",\n",
        "    \"التحليل المخبري أكد وجود التهاب في المسالك البولية ويتطلب العلاج الفوري بالمضادات الحيوية لتفادي أي مضاعفات\",\n",
        "    \"المريض يعاني من أعراض الأنفلونزا الموسمية ولكن حالته مستقرة ولا تحتاج إلى دخول المستشفى\",\n",
        "    \"التهاب المفاصل تسبب في صعوبة الحركة لدى المريضة ويجب عليها البدء في العلاج الطبيعي لتخفيف الألم واستعادة الحركة\",\n",
        "    \"الفحص الطبي الدوري كشف عن ارتفاع في نسبة الكوليسترول مما يستدعي تغييرًا في النظام الغذائي والبدء في العلاج\",\n",
        "    \"المريضة تعاني من اضطرابات النوم بسبب القلق المفرط وقد تمت إحالتها إلى أخصائي نفسي لتقديم الدعم اللازم\",\n",
        "    \"تم اكتشاف ورم في مرحلة مبكرة لدى المريض ويجب إجراء المزيد من الفحوصات لتحديد أفضل خيارات العلاج المتاحة\",\n",
        "    \"التقرير الطبي أشار إلى أن المريض يعاني من مشاكل في الجهاز الهضمي ويحتاج إلى اتباع نظام غذائي خاص لتجنب الألم\",\n",
        "    \"العملية الجراحية التي أجريت كانت ناجحة ولكن المريض يحتاج إلى مراقبة مستمرة للتأكد من عدم حدوث أي مضاعفات\",\n",
        "    \"المريض يعاني من ضيق في التنفس وقد تم نقله إلى وحدة العناية المركزة لتلقي العلاج اللازم بشكل عاجل\",\n",
        "    \"العلاج الطبيعي الذي يخضع له المريض يساعد في تحسين حالته بشكل ملحوظ ولكنه يحتاج إلى الاستمرار لفترة طويلة\"\n",
        "]"
      ],
      "metadata": {
        "id": "qEQJL-CNjjvO"
      },
      "execution_count": 41,
      "outputs": []
    },
    {
      "cell_type": "markdown",
      "source": [
        "# Defining Vocabulary and Model Parameters"
      ],
      "metadata": {
        "id": "TtAp6KPlqBzA"
      }
    },
    {
      "cell_type": "markdown",
      "source": [
        "In this step, we define key parameters that will be used to configure the CBOW model.\n",
        "\n",
        "- **Vocabulary size**: We calculate the size of the vocabulary based on the number of unique words in the corpus. The `vocab_size` represents the total number of unique tokens (words) in the dataset plus one for padding.\n",
        "  \n",
        "- **Embedding size**: The `embedding_size` defines the dimensionality of the word embeddings. In this case, we set the embedding size to 10, meaning each word will be represented as a 10-dimensional vector in the embedding layer.\n",
        "\n",
        "- **Window size**: The `window_size` defines how many words to the left and right of the target word are considered as context. Here, a window size of 2 means that two words before and two words after the target word will be used as context.\n",
        "\n",
        "These parameters will play an essential role in shaping the CBOW model architecture.\n"
      ],
      "metadata": {
        "id": "EOPRl8IfqAHo"
      }
    },
    {
      "cell_type": "code",
      "source": [],
      "metadata": {
        "id": "icwJ4As2qEkP"
      },
      "execution_count": null,
      "outputs": []
    },
    {
      "cell_type": "markdown",
      "source": [
        "# Preparing Context-Target Pairs for CBOW"
      ],
      "metadata": {
        "id": "w6b35855qQqP"
      }
    },
    {
      "cell_type": "markdown",
      "source": [
        "In this step, we generate the context-target pairs from the tokenized sequences to train the CBOW model.\n",
        "\n",
        "- **Context words**: For each word in a sequence, the surrounding words (within the window size) are considered as context. The context consists of the words immediately before and after the target word.\n",
        "  \n",
        "- **Target word**: The word in the middle of the context window is treated as the target word that the model will learn to predict.\n",
        "\n",
        "We iterate through each sequence, collecting the context words and corresponding target words:\n",
        "- For each word in a sequence, we gather the surrounding words based on the defined window size.\n",
        "- The middle word is the target, and the surrounding words form the context.\n",
        "\n",
        "Finally:\n",
        "- **`X`**: An array of context words.\n",
        "- **`y`**: The target words are one-hot encoded, which means they are converted into a categorical format where each word is represented as a vector of length equal to the vocabulary size.\n",
        "\n",
        "These context-target pairs will be used to train the CBOW model to predict a target word based on its context.\n"
      ],
      "metadata": {
        "id": "589xXbYmqEuR"
      }
    },
    {
      "cell_type": "code",
      "source": [],
      "metadata": {
        "id": "c8c1MkYOqSfd"
      },
      "execution_count": null,
      "outputs": []
    },
    {
      "cell_type": "markdown",
      "source": [
        "# Building and Training the CBOW Model"
      ],
      "metadata": {
        "id": "hgxmB4fZqU1A"
      }
    },
    {
      "cell_type": "markdown",
      "source": [
        "In this step, we build and train the Continuous Bag of Words (CBOW) model using the context-target pairs created earlier.\n",
        "\n",
        "1. **Model architecture**:\n",
        "   - **Embedding layer**: This layer transforms the input context words into dense vector representations (embeddings) of size defined by `embedding_size`. The `input_dim` is set to the vocabulary size, and the `input_length` is twice the window size (since context consists of words from both sides of the target).\n",
        "   \n",
        "   - **Lambda layer**: This layer computes the mean of the context word embeddings. It averages the embeddings of the context words to generate a single representation that will be used to predict the target word.\n",
        "   \n",
        "   - **Dense layer**: This fully connected layer outputs a probability distribution over the vocabulary, using the softmax activation function. It predicts the most likely target word based on the context word embeddings.\n",
        "\n",
        "2. **Compilation**:\n",
        "   The model is compiled using the Adam optimizer and categorical cross-entropy as the loss function, which is suitable for multi-class classification tasks. Accuracy is used as a metric to evaluate the model's performance during training.\n",
        "\n",
        "3. **Training the model**:\n",
        "   The model is trained on the context-target pairs for 500 epochs. During each epoch, the model learns to predict the target word based on the context, refining its weights to improve accuracy.\n",
        "\n",
        "4. **Saving the model weights**:\n",
        "   After training, the model weights are saved to a file (`cbow_model.weights.h5`) for future use. This allows us to load the trained model later without retraining.\n",
        "\n",
        "By the end of this step, the CBOW model will have learned to predict target words based on their surrounding context from the given corpus."
      ],
      "metadata": {
        "id": "QkXe33DgqSvD"
      }
    },
    {
      "cell_type": "code",
      "source": [],
      "metadata": {
        "id": "vL3UZZe3qhhh"
      },
      "execution_count": null,
      "outputs": []
    },
    {
      "cell_type": "markdown",
      "source": [
        "# Predicting a Word Using the Trained CBOW Model"
      ],
      "metadata": {
        "id": "mLodiHWkqaL4"
      }
    },
    {
      "cell_type": "markdown",
      "source": [
        "In this step, we define a function to predict a word based on a given context using the trained CBOW model.\n",
        "\n",
        "1. **Function: `predict_word`**:\n",
        "   - **Input**: The function takes a list of context words as input. The number of context words should match the expected size (2 times the window size).\n",
        "   - **Context sequence conversion**: The input context words are tokenized into a sequence of integers using the same tokenizer that was used during training.\n",
        "   - **Input validation**: The function checks whether the length of the context sequence matches the expected size (2 times the window size). If not, it prints an error message.\n",
        "   - **Prediction**: The tokenized context is fed into the trained CBOW model, which predicts the probability distribution over the vocabulary.\n",
        "   - **Retrieve predicted word**: The predicted word is the one with the highest probability. The function retrieves the word corresponding to the predicted index from the tokenizer's word index.\n",
        "\n",
        "2. **Example**:\n",
        "   - We provide a sample context: `['في', 'ارتفاع', 'يعاني', 'المريض']`.\n",
        "   - The function predicts the word that fits best in this context, based on the model's learned weights.\n",
        "   - The predicted word is printed along with the input context.\n",
        "\n",
        "This function allows us to test the CBOW model by predicting words based on their surrounding context from the corpus."
      ],
      "metadata": {
        "id": "_SRP_chYqYKS"
      }
    },
    {
      "cell_type": "code",
      "source": [],
      "metadata": {
        "id": "ykhSWJY0qgCI"
      },
      "execution_count": null,
      "outputs": []
    }
  ]
}